{
 "cells": [
  {
   "cell_type": "code",
   "execution_count": 2,
   "metadata": {},
   "outputs": [],
   "source": [
    "# 05_numeric.ipynb"
   ]
  },
  {
   "cell_type": "code",
   "execution_count": 3,
   "metadata": {},
   "outputs": [],
   "source": [
    "import pandas as pd"
   ]
  },
  {
   "cell_type": "code",
   "execution_count": 4,
   "metadata": {},
   "outputs": [],
   "source": [
    "movie_df = pd.read_csv(\"movie_ratings.csv\")"
   ]
  },
  {
   "cell_type": "code",
   "execution_count": 5,
   "metadata": {},
   "outputs": [
    {
     "data": {
      "text/html": [
       "<div>\n",
       "<style scoped>\n",
       "    .dataframe tbody tr th:only-of-type {\n",
       "        vertical-align: middle;\n",
       "    }\n",
       "\n",
       "    .dataframe tbody tr th {\n",
       "        vertical-align: top;\n",
       "    }\n",
       "\n",
       "    .dataframe thead th {\n",
       "        text-align: right;\n",
       "    }\n",
       "</style>\n",
       "<table border=\"1\" class=\"dataframe\">\n",
       "  <thead>\n",
       "    <tr style=\"text-align: right;\">\n",
       "      <th></th>\n",
       "      <th>UserID</th>\n",
       "      <th>MovieID</th>\n",
       "      <th>Rating</th>\n",
       "      <th>Age</th>\n",
       "      <th>Occupation</th>\n",
       "      <th>Genre</th>\n",
       "    </tr>\n",
       "  </thead>\n",
       "  <tbody>\n",
       "    <tr>\n",
       "      <th>0</th>\n",
       "      <td>45</td>\n",
       "      <td>8</td>\n",
       "      <td>4</td>\n",
       "      <td>55</td>\n",
       "      <td>Unemployed</td>\n",
       "      <td>Horror</td>\n",
       "    </tr>\n",
       "    <tr>\n",
       "      <th>1</th>\n",
       "      <td>48</td>\n",
       "      <td>5</td>\n",
       "      <td>3</td>\n",
       "      <td>15</td>\n",
       "      <td>Engineer</td>\n",
       "      <td>Action</td>\n",
       "    </tr>\n",
       "    <tr>\n",
       "      <th>2</th>\n",
       "      <td>65</td>\n",
       "      <td>4</td>\n",
       "      <td>2</td>\n",
       "      <td>55</td>\n",
       "      <td>Student</td>\n",
       "      <td>Romance</td>\n",
       "    </tr>\n",
       "    <tr>\n",
       "      <th>3</th>\n",
       "      <td>68</td>\n",
       "      <td>6</td>\n",
       "      <td>5</td>\n",
       "      <td>45</td>\n",
       "      <td>Doctor</td>\n",
       "      <td>Comedy</td>\n",
       "    </tr>\n",
       "    <tr>\n",
       "      <th>4</th>\n",
       "      <td>68</td>\n",
       "      <td>7</td>\n",
       "      <td>4</td>\n",
       "      <td>25</td>\n",
       "      <td>Engineer</td>\n",
       "      <td>Romance</td>\n",
       "    </tr>\n",
       "  </tbody>\n",
       "</table>\n",
       "</div>"
      ],
      "text/plain": [
       "   UserID  MovieID  Rating  Age  Occupation    Genre\n",
       "0      45        8       4   55  Unemployed   Horror\n",
       "1      48        5       3   15    Engineer   Action\n",
       "2      65        4       2   55     Student  Romance\n",
       "3      68        6       5   45      Doctor   Comedy\n",
       "4      68        7       4   25    Engineer  Romance"
      ]
     },
     "execution_count": 5,
     "metadata": {},
     "output_type": "execute_result"
    }
   ],
   "source": [
    "movie_df.head()"
   ]
  },
  {
   "cell_type": "code",
   "execution_count": 6,
   "metadata": {},
   "outputs": [
    {
     "data": {
      "text/plain": [
       "np.int64(60)"
      ]
     },
     "execution_count": 6,
     "metadata": {},
     "output_type": "execute_result"
    }
   ],
   "source": [
    "movie_df[\"Age\"].mean()\n",
    "movie_df[\"Age\"].min()\n",
    "movie_df[\"Age\"].max()"
   ]
  },
  {
   "cell_type": "code",
   "execution_count": 7,
   "metadata": {},
   "outputs": [
    {
     "data": {
      "text/plain": [
       "count    500.000000\n",
       "mean       2.998000\n",
       "std        1.434612\n",
       "min        1.000000\n",
       "25%        2.000000\n",
       "50%        3.000000\n",
       "75%        4.000000\n",
       "max        5.000000\n",
       "Name: Rating, dtype: float64"
      ]
     },
     "execution_count": 7,
     "metadata": {},
     "output_type": "execute_result"
    }
   ],
   "source": [
    "movie_df[\"Rating\"].describe()"
   ]
  },
  {
   "cell_type": "code",
   "execution_count": 8,
   "metadata": {},
   "outputs": [
    {
     "data": {
      "text/plain": [
       "40"
      ]
     },
     "execution_count": 8,
     "metadata": {},
     "output_type": "execute_result"
    }
   ],
   "source": [
    "movie_df[\"MovieID\"].mode()[0]  # 열을 먼저 접근\n",
    "mode_movie_id = movie_df.mode()[\"MovieID\"][0]  # 모든 열의 최빈값을 먼저 계산\n",
    "\n",
    "# 가장 많은 영화 ID 만 선택\n",
    "condition = movie_df[\"MovieID\"] == mode_movie_id\n",
    "\n",
    "# 데이터프레임에 행의 수\n",
    "# len(DataFrame) : 데이터프레임의 행의 수를 반환한다.\n",
    "len(movie_df.loc[condition])\n",
    "\n",
    "# shape 속성: 행과 열의 수를 저장한 속성\n",
    "# shape[0] : 행의 수\n",
    "# shape[1] : 열의 수\n",
    "movie_df.loc[condition].shape[0]"
   ]
  },
  {
   "cell_type": "code",
   "execution_count": 9,
   "metadata": {},
   "outputs": [
    {
     "name": "stdout",
     "output_type": "stream",
     "text": [
      "1\n",
      "2\n"
     ]
    }
   ],
   "source": [
    "data = [\n",
    "    {\"a\": 1},\n",
    "    {\"a\": 1},\n",
    "    {\"a\": 1},\n",
    "    {\"a\": 2},\n",
    "    {\"a\": 2},\n",
    "    {\"a\": 2},\n",
    "]\n",
    "df = pd.DataFrame(data)\n",
    "mode_list = df[\"a\"].mode()\n",
    "\n",
    "for mode in mode_list:\n",
    "    print(mode)"
   ]
  },
  {
   "cell_type": "code",
   "execution_count": 10,
   "metadata": {},
   "outputs": [],
   "source": [
    "mpg_df = pd.read_csv(\"auto-mpg.csv\")"
   ]
  },
  {
   "cell_type": "code",
   "execution_count": 11,
   "metadata": {},
   "outputs": [
    {
     "name": "stdout",
     "output_type": "stream",
     "text": [
      "70 17.689655172413794\n",
      "71 21.25\n",
      "72 18.714285714285715\n",
      "73 17.1\n",
      "74 22.703703703703702\n",
      "75 20.266666666666666\n",
      "76 21.573529411764707\n",
      "77 23.375\n",
      "78 24.061111111111114\n",
      "79 25.09310344827585\n"
     ]
    }
   ],
   "source": [
    "for year in range(70, 80):\n",
    "    # year -> 70 ~ 79\n",
    "    # 조건식\n",
    "    condition = mpg_df[\"model year\"] == year\n",
    "\n",
    "    # 각 년도의 차량을 선택\n",
    "    year_mpg_df = mpg_df.loc[condition]\n",
    "\n",
    "    # 연비의 평균\n",
    "    print(year, year_mpg_df[\"mpg\"].mean())"
   ]
  },
  {
   "cell_type": "code",
   "execution_count": 12,
   "metadata": {},
   "outputs": [
    {
     "data": {
      "text/plain": [
       "np.float64(27.542)"
      ]
     },
     "execution_count": 12,
     "metadata": {},
     "output_type": "execute_result"
    }
   ],
   "source": [
    "# horsepower 가 평균 horsepower보다 작은 데이터 선택\n",
    "\n",
    "# 마력의 평균 계산\n",
    "horsepower_mean = mpg_df[\"horsepower\"].mean()\n",
    "\n",
    "# 마력이 마력의 평균보다 작은 데이터 선택 후\n",
    "# 연비(mpg)의 평균(mean) 계산\n",
    "condition = mpg_df[\"horsepower\"] < horsepower_mean\n",
    "mpg_df.loc[condition, \"mpg\"].mean()"
   ]
  },
  {
   "cell_type": "code",
   "execution_count": 13,
   "metadata": {},
   "outputs": [
    {
     "data": {
      "text/plain": [
       "np.float64(16.71148648648649)"
      ]
     },
     "execution_count": 13,
     "metadata": {},
     "output_type": "execute_result"
    }
   ],
   "source": [
    "# horsepower 가 평균 horsepower보다 큰 데이터 선택\n",
    "\n",
    "# 마력의 평균 계산\n",
    "horsepower_mean = mpg_df[\"horsepower\"].mean()\n",
    "\n",
    "# 마력이 마력의 평균보다 큰 데이터 선택 후\n",
    "# 연비(mpg)의 평균(mean) 계산\n",
    "condition = mpg_df[\"horsepower\"] > horsepower_mean\n",
    "mpg_df.loc[condition, \"mpg\"].mean()"
   ]
  },
  {
   "cell_type": "code",
   "execution_count": 14,
   "metadata": {},
   "outputs": [
    {
     "data": {
      "text/plain": [
       "54    35.0\n",
       "Name: mpg, dtype: float64"
      ]
     },
     "execution_count": 14,
     "metadata": {},
     "output_type": "execute_result"
    }
   ],
   "source": [
    "# 가장 무거운(max) 무게(weight)와 가벼운(min) 무게(weight)\n",
    "max_weight = mpg_df[\"weight\"].max()\n",
    "min_weight = mpg_df[\"weight\"].min()\n",
    "\n",
    "# 데이터를 선택\n",
    "# 1. 조건식(condition)\n",
    "# codition = 비교할 열 , 비교 연산자 , 비교 값\n",
    "\n",
    "# 가장 무거운 차를 찾는 비교식\n",
    "condition1 = mpg_df[\"weight\"] == max_weight\n",
    "\n",
    "# 가장 가벼운 차를 찾는 비교식\n",
    "condition2 = mpg_df[\"weight\"] == min_weight\n",
    "\n",
    "# 2. .loc[] 사용\n",
    "# .loc[행, 열]\n",
    "# .loc[조건식, 보고 싶은 열]\n",
    "# 가장 무거운 차의 연비\n",
    "mpg_df.loc[condition1, \"mpg\"]\n",
    "\n",
    "# 가장 가벼운 차의 연비\n",
    "mpg_df.loc[condition2, \"mpg\"]"
   ]
  },
  {
   "cell_type": "code",
   "execution_count": null,
   "metadata": {},
   "outputs": [],
   "source": []
  }
 ],
 "metadata": {
  "kernelspec": {
   "display_name": "Python 3",
   "language": "python",
   "name": "python3"
  },
  "language_info": {
   "codemirror_mode": {
    "name": "ipython",
    "version": 3
   },
   "file_extension": ".py",
   "mimetype": "text/x-python",
   "name": "python",
   "nbconvert_exporter": "python",
   "pygments_lexer": "ipython3",
   "version": "3.13.1"
  }
 },
 "nbformat": 4,
 "nbformat_minor": 2
}
