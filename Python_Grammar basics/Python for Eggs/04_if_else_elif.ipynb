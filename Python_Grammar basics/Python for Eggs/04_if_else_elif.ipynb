{
 "cells": [
  {
   "cell_type": "code",
   "execution_count": 7,
   "metadata": {},
   "outputs": [],
   "source": [
    "a = 1234 * 4\n",
    "b = 13456 / 2"
   ]
  },
  {
   "cell_type": "code",
   "execution_count": 8,
   "metadata": {},
   "outputs": [
    {
     "name": "stdout",
     "output_type": "stream",
     "text": [
      "b\n"
     ]
    }
   ],
   "source": [
    "if a > b:\n",
    "    print('a')\n",
    "\n",
    "else:\n",
    "    print('b')"
   ]
  },
  {
   "cell_type": "code",
   "execution_count": 9,
   "metadata": {},
   "outputs": [
    {
     "name": "stdout",
     "output_type": "stream",
     "text": [
      "c와 b가 같다\n"
     ]
    }
   ],
   "source": [
    "c = 15 * 5\n",
    "b = 15 + 15 + 15 + 15 + 15\n",
    "\n",
    "if c > b:\n",
    "    print('C가 b보다 크다')\n",
    "elif c == b:\n",
    "    print('c와 b가 같다')\n",
    "elif c > b:\n",
    "    print('c와 b가 같다')\n",
    "else:\n",
    "    print('알 수 없다')\n"
   ]
  },
  {
   "cell_type": "code",
   "execution_count": 16,
   "metadata": {},
   "outputs": [
    {
     "name": "stdout",
     "output_type": "stream",
     "text": [
      "48는 4로 나누어 떨어집니다\n"
     ]
    }
   ],
   "source": [
    "a =48\n",
    "b = 4\n",
    "\n",
    "if a % b == 0:\n",
    "    print(f'{a}는 {b}로 나누어 떨어집니다')\n",
    "# elif a % b != 0:\n",
    "#     print(f'{a}는 {b}로 나누어 떨어지지 않습니다')\n",
    "else:\n",
    "    print(f'{a}는 {b}로 나누어 떨어지지 않습니다')"
   ]
  },
  {
   "cell_type": "code",
   "execution_count": null,
   "metadata": {},
   "outputs": [],
   "source": [
    "#연습 문제\n"
   ]
  }
 ],
 "metadata": {
  "kernelspec": {
   "display_name": "Python 3",
   "language": "python",
   "name": "python3"
  },
  "language_info": {
   "codemirror_mode": {
    "name": "ipython",
    "version": 3
   },
   "file_extension": ".py",
   "mimetype": "text/x-python",
   "name": "python",
   "nbconvert_exporter": "python",
   "pygments_lexer": "ipython3",
   "version": "3.13.1"
  }
 },
 "nbformat": 4,
 "nbformat_minor": 2
}
